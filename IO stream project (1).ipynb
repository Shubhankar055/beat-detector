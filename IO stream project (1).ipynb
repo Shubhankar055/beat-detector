{
 "cells": [
  {
   "cell_type": "code",
   "execution_count": 41,
   "metadata": {},
   "outputs": [],
   "source": [
    "import librosa"
   ]
  },
  {
   "cell_type": "code",
   "execution_count": 43,
   "metadata": {},
   "outputs": [],
   "source": [
    "x, sr = librosa.load('Simple-drum-loop-116-bpm.wav')  ## TESTING LINE"
   ]
  },
  {
   "cell_type": "code",
   "execution_count": 44,
   "metadata": {},
   "outputs": [
    {
     "name": "stdout",
     "output_type": "stream",
     "text": [
      "117.45383522727273\n",
      "[0.53405896 1.06811791 1.57895692 2.08979592 2.60063492 3.13469388]\n"
     ]
    }
   ],
   "source": [
    "tempo, beat_times = librosa.beat.beat_track(x, sr=sr, start_bpm=120, units='time') #TESTING LINE\n",
    "print(tempo)\n",
    "print(beat_times)"
   ]
  },
  {
   "cell_type": "code",
   "execution_count": 45,
   "metadata": {},
   "outputs": [],
   "source": [
    "def beat_dect(audio):  #ACTUAL FUNCTION FOR BEAT DETECTION\n",
    "    x, sr = librosa.load(audio)\n",
    "    tempo, beat_times = librosa.beat.beat_track(x, sr=sr, start_bpm=120, units='time')\n",
    "    lst = beat_times.tolist()\n",
    "    rnd_lst = [round(items ,3) for items in lst]\n",
    "    \n",
    "    \n",
    "    return(rnd_lst)\n",
    "    "
   ]
  },
  {
   "cell_type": "code",
   "execution_count": 40,
   "metadata": {},
   "outputs": [
    {
     "data": {
      "text/plain": [
       "[0.534, 1.068, 1.579, 2.09, 2.601, 3.135]"
      ]
     },
     "execution_count": 40,
     "metadata": {},
     "output_type": "execute_result"
    }
   ],
   "source": [
    "beat_dect(\"Simple-drum-loop-116-bpm.wav\")"
   ]
  },
  {
   "cell_type": "code",
   "execution_count": null,
   "metadata": {},
   "outputs": [],
   "source": []
  },
  {
   "cell_type": "code",
   "execution_count": null,
   "metadata": {},
   "outputs": [],
   "source": []
  }
 ],
 "metadata": {
  "kernelspec": {
   "display_name": "Python 3",
   "language": "python",
   "name": "python3"
  },
  "language_info": {
   "codemirror_mode": {
    "name": "ipython",
    "version": 3
   },
   "file_extension": ".py",
   "mimetype": "text/x-python",
   "name": "python",
   "nbconvert_exporter": "python",
   "pygments_lexer": "ipython3",
   "version": "3.6.5"
  }
 },
 "nbformat": 4,
 "nbformat_minor": 2
}
